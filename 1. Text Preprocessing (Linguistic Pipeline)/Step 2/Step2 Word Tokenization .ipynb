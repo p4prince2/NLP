{
 "cells": [
  {
   "cell_type": "markdown",
   "id": "3275fd3c-2373-4363-83af-fd9499c561f2",
   "metadata": {},
   "source": [
    "# ***Word Tokenizer is used to break the sentence into separate words or tokens.***\n",
    "\n",
    "***Example:***\n",
    "\n",
    "JavaTpoint offers Corporate Training, Summer Training, Online Training, and Winter Training.\n",
    "\n",
    "***Word Tokenizer generates the following result:***\n",
    "\n",
    "\"JavaTpoint\", \"offers\", \"Corporate\", \"Training\", \"Summer\", \"Training\", \"Online\", \"Training\", \"and\", \"Winter\", \"Training\", \".\""
   ]
  },
  {
   "cell_type": "code",
   "execution_count": 19,
   "id": "cd867b51-0fde-4891-b266-fa92c567d8ab",
   "metadata": {},
   "outputs": [],
   "source": [
    "##  paragraph ---> Words\n",
    "## Sentence --> words\n",
    "\n",
    "from nltk.tokenize import word_tokenize"
   ]
  },
  {
   "cell_type": "code",
   "execution_count": 13,
   "id": "aa262e5b-ac97-4116-8240-eb81494f7003",
   "metadata": {},
   "outputs": [],
   "source": [
    "paragraph ='''Independence Day is one of the important festivals for every Indian citizen. It is celebrated on the 15th of August each year ever since India got independence\n",
    "from the British rule.\\nThe day celebrates independence in the true sense.'''"
   ]
  },
  {
   "cell_type": "code",
   "execution_count": 21,
   "id": "2e00cc3b-cb8d-45d5-9490-2f0692a254a6",
   "metadata": {},
   "outputs": [],
   "source": [
    "sentence=\"JavaTpoint offers Corporate Training, Summer Training, Online Training, and Winter Training.\""
   ]
  },
  {
   "cell_type": "code",
   "execution_count": 15,
   "id": "3cb834cd-d7bc-4b54-a22a-2ac5703b489d",
   "metadata": {},
   "outputs": [
    {
     "data": {
      "text/plain": [
       "'Independence Day is one of the important festivals for every Indian citizen. It is celebrated on the 15th of August each year ever since India got independence\\nfrom the British rule.\\nThe day celebrates independence in the true sense.'"
      ]
     },
     "execution_count": 15,
     "metadata": {},
     "output_type": "execute_result"
    }
   ],
   "source": [
    "paragraph"
   ]
  },
  {
   "cell_type": "code",
   "execution_count": 17,
   "id": "3f79d00c-4afc-4de7-af24-f54a621e3ade",
   "metadata": {
    "scrolled": true
   },
   "outputs": [
    {
     "data": {
      "text/plain": [
       "['Independence',\n",
       " 'Day',\n",
       " 'is',\n",
       " 'one',\n",
       " 'of',\n",
       " 'the',\n",
       " 'important',\n",
       " 'festivals',\n",
       " 'for',\n",
       " 'every',\n",
       " 'Indian',\n",
       " 'citizen',\n",
       " '.',\n",
       " 'It',\n",
       " 'is',\n",
       " 'celebrated',\n",
       " 'on',\n",
       " 'the',\n",
       " '15th',\n",
       " 'of',\n",
       " 'August',\n",
       " 'each',\n",
       " 'year',\n",
       " 'ever',\n",
       " 'since',\n",
       " 'India',\n",
       " 'got',\n",
       " 'independence',\n",
       " 'from',\n",
       " 'the',\n",
       " 'British',\n",
       " 'rule',\n",
       " '.',\n",
       " 'The',\n",
       " 'day',\n",
       " 'celebrates',\n",
       " 'independence',\n",
       " 'in',\n",
       " 'the',\n",
       " 'true',\n",
       " 'sense',\n",
       " '.']"
      ]
     },
     "execution_count": 17,
     "metadata": {},
     "output_type": "execute_result"
    }
   ],
   "source": [
    "word_tokenize(paragraph)"
   ]
  },
  {
   "cell_type": "code",
   "execution_count": 23,
   "id": "d516aa72-d181-4bd6-8e8c-e1c65c72048f",
   "metadata": {},
   "outputs": [
    {
     "data": {
      "text/plain": [
       "['JavaTpoint',\n",
       " 'offers',\n",
       " 'Corporate',\n",
       " 'Training',\n",
       " ',',\n",
       " 'Summer',\n",
       " 'Training',\n",
       " ',',\n",
       " 'Online',\n",
       " 'Training',\n",
       " ',',\n",
       " 'and',\n",
       " 'Winter',\n",
       " 'Training',\n",
       " '.']"
      ]
     },
     "execution_count": 23,
     "metadata": {},
     "output_type": "execute_result"
    }
   ],
   "source": [
    "word_tokenize(sentence)"
   ]
  },
  {
   "cell_type": "code",
   "execution_count": 25,
   "id": "15c5c607-0221-40a7-a256-8db47231d519",
   "metadata": {},
   "outputs": [],
   "source": [
    " ## word_tokenize(), it splits words at punctuation and treats punctuation as separate tokens.\n",
    "\n",
    "from nltk.tokenize import wordpunct_tokenize"
   ]
  },
  {
   "cell_type": "code",
   "execution_count": 27,
   "id": "1c6aa199-65b4-4768-85ea-5c1e3a61e84b",
   "metadata": {},
   "outputs": [
    {
     "name": "stdout",
     "output_type": "stream",
     "text": [
      "['Independence', 'Day', 'is', 'one', 'of', 'the', 'important', 'festivals', 'for', 'every', 'Indian', 'citizen', '.', 'It', 'is', 'celebrated', 'on', 'the', '15th', 'of', 'August', 'each', 'year', 'ever', 'since', 'India', 'got', 'independence', 'from', 'the', 'British', 'rule', '.', 'The', 'day', 'celebrates', 'independence', 'in', 'the', 'true', 'sense', '.']\n",
      "['JavaTpoint', 'offers', 'Corporate', 'Training', ',', 'Summer', 'Training', ',', 'Online', 'Training', ',', 'and', 'Winter', 'Training', '.']\n"
     ]
    }
   ],
   "source": [
    "print(wordpunct_tokenize(paragraph))\n",
    "print(wordpunct_tokenize(sentence))"
   ]
  },
  {
   "cell_type": "raw",
   "id": "36e36992-54c9-4ab9-979b-d559b79da872",
   "metadata": {},
   "source": []
  },
  {
   "cell_type": "code",
   "execution_count": 29,
   "id": "7a7ac765-917d-456b-8950-5acb99bba699",
   "metadata": {},
   "outputs": [],
   "source": [
    "from nltk.tokenize import TreebankWordTokenizer"
   ]
  },
  {
   "cell_type": "code",
   "execution_count": 31,
   "id": "fd09934e-883c-4a46-99c7-07b0f982d751",
   "metadata": {},
   "outputs": [],
   "source": [
    "token=TreebankWordTokenizer()\n"
   ]
  },
  {
   "cell_type": "code",
   "execution_count": 33,
   "id": "08c27ba9-06ae-45e3-8c22-18d565ba7753",
   "metadata": {},
   "outputs": [
    {
     "data": {
      "text/plain": [
       "['Independence',\n",
       " 'Day',\n",
       " 'is',\n",
       " 'one',\n",
       " 'of',\n",
       " 'the',\n",
       " 'important',\n",
       " 'festivals',\n",
       " 'for',\n",
       " 'every',\n",
       " 'Indian',\n",
       " 'citizen.',\n",
       " 'It',\n",
       " 'is',\n",
       " 'celebrated',\n",
       " 'on',\n",
       " 'the',\n",
       " '15th',\n",
       " 'of',\n",
       " 'August',\n",
       " 'each',\n",
       " 'year',\n",
       " 'ever',\n",
       " 'since',\n",
       " 'India',\n",
       " 'got',\n",
       " 'independence',\n",
       " 'from',\n",
       " 'the',\n",
       " 'British',\n",
       " 'rule.',\n",
       " 'The',\n",
       " 'day',\n",
       " 'celebrates',\n",
       " 'independence',\n",
       " 'in',\n",
       " 'the',\n",
       " 'true',\n",
       " 'sense',\n",
       " '.']"
      ]
     },
     "execution_count": 33,
     "metadata": {},
     "output_type": "execute_result"
    }
   ],
   "source": [
    "token.tokenize(paragraph)"
   ]
  },
  {
   "cell_type": "code",
   "execution_count": null,
   "id": "14ba0941-e60a-4212-b223-bca0f34c4758",
   "metadata": {},
   "outputs": [],
   "source": []
  }
 ],
 "metadata": {
  "kernelspec": {
   "display_name": "Python 3 (ipykernel)",
   "language": "python",
   "name": "python3"
  },
  "language_info": {
   "codemirror_mode": {
    "name": "ipython",
    "version": 3
   },
   "file_extension": ".py",
   "mimetype": "text/x-python",
   "name": "python",
   "nbconvert_exporter": "python",
   "pygments_lexer": "ipython3",
   "version": "3.12.7"
  }
 },
 "nbformat": 4,
 "nbformat_minor": 5
}
