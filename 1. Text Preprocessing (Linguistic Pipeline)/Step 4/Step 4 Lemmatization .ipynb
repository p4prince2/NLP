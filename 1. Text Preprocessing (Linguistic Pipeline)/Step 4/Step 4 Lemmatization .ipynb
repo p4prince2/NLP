{
 "cells": [
  {
   "cell_type": "markdown",
   "id": "7d7368e3-8be8-446e-b957-b830db61d564",
   "metadata": {},
   "source": [
    "# ***Step 4: Lemmatization***\n",
    "\n",
    "Lemmatization is quite similar to the Stamming. It is used to group different inflected forms of the word, called Lemma. The main difference between Stemming and lemmatization is that it produces the root word, which has a meaning.\n",
    "\n",
    "***For example:*** In lemmatization, the words intelligence, intelligent, and intelligently has a root word intelligent, which has a meaning."
   ]
  },
  {
   "cell_type": "markdown",
   "id": "ea9a3bf5-0014-471f-997b-5c5bf2298e97",
   "metadata": {},
   "source": [
    "# **Lemmatization in NLP**\n",
    "Lemmatization is the process of reducing words to their **base or dictionary form** (lemma) while ensuring the result is a valid word.\n",
    "Unlike stemming, which simply chops off suffixes, lemmatization considers **context and grammar** to produce a meaningful word.\n",
    "\n",
    "### **🔹 Difference Between Lemmatization and Stemming**\n",
    "| Feature | Stemming | Lemmatization |\n",
    "|---------|---------|--------------|\n",
    "| Method | Removes suffixes using rules | Uses a dictionary to get the root form |\n",
    "| Output | Can produce non-meaningful words | Always returns a valid word |\n",
    "| Example ('running') | `runn` (not a valid word) | `run` (correct) |\n",
    "| Example ('better') | `better` (unchanged) | `good` (meaning-based) |\n",
    "| Example ('wolves') | `wolv` (incorrect) | `wolf` (correct) |\n",
    "| Speed | Faster (rule-based) | Slower (dictionary-based) |\n"
   ]
  },
  {
   "cell_type": "code",
   "execution_count": 25,
   "id": "9d2f7286-6e0a-41b1-991b-3f4bfcbeff9d",
   "metadata": {},
   "outputs": [
    {
     "name": "stderr",
     "output_type": "stream",
     "text": [
      "[nltk_data] Downloading package punkt to\n",
      "[nltk_data]     C:\\Users\\p4pri\\AppData\\Roaming\\nltk_data...\n",
      "[nltk_data]   Package punkt is already up-to-date!\n",
      "[nltk_data] Downloading package wordnet to\n",
      "[nltk_data]     C:\\Users\\p4pri\\AppData\\Roaming\\nltk_data...\n",
      "[nltk_data]   Package wordnet is already up-to-date!\n"
     ]
    }
   ],
   "source": [
    "import nltk\n",
    "from nltk.stem import WordNetLemmatizer\n",
    "from nltk.tokenize import word_tokenize\n",
    "\n",
    "# Download required resources\n",
    "nltk.download('punkt')\n",
    "nltk.download('wordnet')\n",
    "\n",
    "# Initialize Lemmatizer\n",
    "lemmatizer = WordNetLemmatizer()"
   ]
  },
  {
   "cell_type": "markdown",
   "id": "5fc99f74-0643-44f0-8de6-eda81f60dd40",
   "metadata": {},
   "source": [
    "### **🔹 Example of Lemmatization in Python**"
   ]
  },
  {
   "cell_type": "code",
   "execution_count": 10,
   "id": "db996b13-a210-478a-8c5d-5dad6bab41b5",
   "metadata": {},
   "outputs": [
    {
     "name": "stdout",
     "output_type": "stream",
     "text": [
      "Original Words: ['running', 'flies', 'better', 'children', 'wolves', 'studies']\n",
      "Lemmatized Words: ['running', 'fly', 'better', 'child', 'wolf', 'study']\n"
     ]
    }
   ],
   "source": [
    "# Example words\n",
    "words = ['running', 'flies', 'better', 'children', 'wolves', 'studies']\n",
    "\n",
    "# Apply Lemmatization\n",
    "lemmatized_words = [lemmatizer.lemmatize(word) for word in words]\n",
    "\n",
    "print('Original Words:', words)\n",
    "print('Lemmatized Words:', lemmatized_words)"
   ]
  },
  {
   "cell_type": "markdown",
   "id": "f56b32de-2634-4daf-a55a-60a76ec641b5",
   "metadata": {},
   "source": [
    "### **🔹 Expected Output**\n",
    "```\n",
    "Original Words: ['running', 'flies', 'better', 'children', 'wolves', 'studies']\n",
    "Lemmatized Words: ['running', 'fly', 'better', 'child', 'wolf', 'study']\n",
    "```\n",
    "✅ Notice that 'better' remains unchanged because **lemmatization needs POS tagging** to recognize that its lemma is 'good'.\n"
   ]
  },
  {
   "cell_type": "markdown",
   "id": "929ebb33-3234-493e-a5b5-cc5d10392fc8",
   "metadata": {},
   "source": [
    "# ***Improving Lemmatization with POS Tagging***\n",
    "\n",
    " -Lemmatization works better when you specify the Part of Speech (POS):\n",
    "\n",
    " -Noun (n) → \"children\" → \"child\"\n",
    "\n",
    " -Verb (v) → \"running\" → \"run\"\n",
    "\n",
    " -Adjective (a) → \"better\" → \"good\""
   ]
  },
  {
   "cell_type": "code",
   "execution_count": 43,
   "id": "53f83d25-2a69-43b6-b35f-a2ee1c61c289",
   "metadata": {},
   "outputs": [
    {
     "data": {
      "text/plain": [
       "'go'"
      ]
     },
     "execution_count": 43,
     "metadata": {},
     "output_type": "execute_result"
    }
   ],
   "source": [
    "word=WordNetLemmatizer()\n",
    "\n",
    "word.lemmatize(\"going\",pos='v')"
   ]
  },
  {
   "cell_type": "markdown",
   "id": "caf1fd43-f21f-430c-82a0-cf10fae079cc",
   "metadata": {},
   "source": [
    "### **🔹 When to Use Lemmatization?**\n",
    "- ✅ When you need **meaningful** words, not just root forms.\n",
    "- ✅ For **Natural Language Processing (NLP)** tasks like **chatbots, text analysis, and AI**.\n",
    "- ✅ When working with **search engines** (lemmatization improves search accuracy).\n"
   ]
  },
  {
   "cell_type": "markdown",
   "id": "25ccbd11-9488-4569-8b1b-c92daeda6dbb",
   "metadata": {},
   "source": [
    "### **🔹 Conclusion**\n",
    "- **Stemming is fast** but may produce incorrect words (e.g., 'running' → 'runn').\n",
    "- **Lemmatization is slower** but **more accurate** and returns **real words**.\n",
    "- **Using POS tagging** improves lemmatization significantly.\n"
   ]
  },
  {
   "cell_type": "code",
   "execution_count": null,
   "id": "d89d9018-1aaf-43cd-a437-9252f2252557",
   "metadata": {},
   "outputs": [],
   "source": []
  },
  {
   "cell_type": "markdown",
   "id": "7ba907c7-377f-4d21-829d-91410af5d24c",
   "metadata": {},
   "source": [
    "***"
   ]
  },
  {
   "cell_type": "markdown",
   "id": "b91f1620-e1ea-4a57-8dd3-5697d64c7380",
   "metadata": {},
   "source": [
    "***"
   ]
  },
  {
   "cell_type": "markdown",
   "id": "b6399702-25ac-4458-a317-25970704ab30",
   "metadata": {},
   "source": [
    "\n",
    "## ***Stemming vs Lemmatization***\n",
    "# This notebook explains the difference between **Stemming** and **Lemmatization** in Natural Language Processing (NLP).\""
   ]
  },
  {
   "cell_type": "markdown",
   "id": "1e377e7b-b5dc-4120-929b-fbb57f2a53cc",
   "metadata": {},
   "source": [
    "## 1️⃣ Stemming\n",
    "\n",
    "### Definition:\n",
    "- **Stemming** is a **rule-based process** that reduces words to their **root form** by simply removing prefixes and suffixes. \n",
    "- It often leads to **non-dictionary** words, which may not be valid.\n",
    "\n",
    "### Approach:\n",
    "- Stemming uses **heuristic rules** (such as removing common suffixes like \"ing\", \"ed\", \"es\") to chop off word endings.\n",
    "- The result may not be an actual word, but a **stem**.\n",
    "\n",
    "### Example:\n",
    "- \"Running\" → \"Run\"\n",
    "- \"Happiness\" → \"Happi\"\n",
    "- \"Loves\" → \"Lov\"\n",
    "\n",
    "### Advantages:\n",
    "- **Faster** than lemmatization.\n",
    "- Suitable for **simple text analysis** tasks where **accuracy** isn't crucial.\n",
    "\n",
    "### Disadvantages:\n",
    "- Can produce **nonsense words** (not real words).\n",
    "- Doesn't consider **context** or **meaning**.\n",
    "\n",
    "### Tools:\n",
    "- **Porter Stemmer** (most common)\n",
    "- **Lancaster Stemmer** (aggressive)\n",
    "- **Snowball Stemmer** (improved version of Porter)\n"
   ]
  },
  {
   "cell_type": "markdown",
   "id": "a6603ef8-a6a0-4ee0-a527-9ba8bf5ce3b5",
   "metadata": {},
   "source": [
    "## 2️⃣ Lemmatization\n",
    "\n",
    "### Definition:\n",
    "- **Lemmatization** is a **dictionary-based** process that converts words into their **base or root form** (known as the \"lemma\").\n",
    "- It uses a **morphological analysis** to consider the **context** and **part of speech (POS)**.\n",
    "\n",
    "### Approach:\n",
    "- Lemmatization looks at the word and its context to find the **correct lemma**. This ensures that the lemmatized word is a **valid word** in the dictionary.\n",
    "\n",
    "### Example:\n",
    "- \"Running\" → \"Run\"\n",
    "- \"Happiness\" → \"Happiness\"\n",
    "- \"Loves\" → \"Love\"\n",
    "\n",
    "### Advantages:\n",
    "- Produces **real words** (dictionary forms).\n",
    "- **Context-aware**: Takes into account the part of speech to provide correct lemmatization.\n",
    "- **Accurate** and **more sophisticated** than stemming.\n",
    "\n",
    "### Disadvantages:\n",
    "- **Slower** than stemming.\n",
    "- Requires more **computational resources** because it uses a **lexical database** (e.g., **WordNet**).\n",
    "\n",
    "### Tools:\n",
    "- **WordNet Lemmatizer** (NLTK)\n",
    "- **spaCy Lemmatizer** (more advanced, efficient)\n"
   ]
  },
  {
   "cell_type": "markdown",
   "id": "e0dd9abe-0433-4209-8b80-509847f90847",
   "metadata": {},
   "source": [
    "## 🔹 Comparison Table: Stemming vs Lemmatization\n",
    "\n",
    "| Feature           | **Stemming**                         | **Lemmatization**                         |\n",
    "|-------------------|--------------------------------------|-------------------------------------------|\n",
    "| **Method**        | Rule-based (removes suffixes)        | Dictionary-based (morphological analysis) |\n",
    "| **Speed**         | Faster                               | Slower                                    |\n",
    "| **Accuracy**      | Less accurate (may produce invalid words) | More accurate (valid words)               |\n",
    "| **Result**        | May produce **non-dictionary** words | Always produces **real dictionary words** |\n",
    "| **Use Case**      | When speed is prioritized (e.g., search engines, quick text preprocessing) | When **meaning** and **accuracy** matter (e.g., sentiment analysis, NLP tasks) |\n",
    "| **Example**       | \"Running\" → \"Run\" (incorrect for verbs) | \"Running\" → \"Run\" (correct)               |\n",
    "| **Tools**         | Porter, Snowball, Lancaster Stemmer  | WordNet Lemmatizer, spaCy, TextBlob       |\n"
   ]
  },
  {
   "cell_type": "code",
   "execution_count": null,
   "id": "59ea2a56-a777-4587-9c56-a251683413b3",
   "metadata": {},
   "outputs": [],
   "source": []
  }
 ],
 "metadata": {
  "kernelspec": {
   "display_name": "Python 3 (ipykernel)",
   "language": "python",
   "name": "python3"
  },
  "language_info": {
   "codemirror_mode": {
    "name": "ipython",
    "version": 3
   },
   "file_extension": ".py",
   "mimetype": "text/x-python",
   "name": "python",
   "nbconvert_exporter": "python",
   "pygments_lexer": "ipython3",
   "version": "3.12.7"
  }
 },
 "nbformat": 4,
 "nbformat_minor": 5
}
