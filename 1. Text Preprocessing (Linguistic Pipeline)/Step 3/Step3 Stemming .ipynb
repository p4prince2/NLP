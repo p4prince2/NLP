{
 "cells": [
  {
   "cell_type": "markdown",
   "id": "3d80b1b1-3498-49d5-8ea7-faa9f971dc0d",
   "metadata": {},
   "source": [
    "# ***Step3: Stemming***\n",
    "\n",
    "Stemming is used to normalize words into its base form or root form. For example, celebrates, celebrated and celebrating, all these words are originated with a single root word \"**celebrate**.\" The big problem with stemming is that sometimes it produces the root word which may not have any meaning.\n",
    "\n",
    "***For Example***, intelligence, intelligent, and intelligently, all these words are originated with a single root word \"**intelligen**.\" In English, the word \"intelligen\" do not have any meaning."
   ]
  },
  {
   "cell_type": "markdown",
   "id": "c24d7c47-8681-4df3-afa1-9739d93798d8",
   "metadata": {},
   "source": [
    "\n",
    "## Stemming in Text Preprocessing\n",
    "\n",
    "### What is Stemming?\n",
    "Stemming is a text preprocessing technique used in Natural Language Processing (NLP) \n",
    "to reduce words to their root form by removing suffixes. It helps normalize words, \n",
    "making them easier to process and analyze in machine learning models, search engines, \n",
    "and text-based applications.\n",
    "\n",
    "Example:\n",
    "- \"running\" → \"run\"\n",
    "- \"flies\" → \"fli\" (instead of \"fly\")\n",
    "- \"better\" → \"better\" (does not change because \"better\" is not modified correctly by traditional stemming)\n",
    "\n",
    "### Why Use Stemming?\n",
    "- Reduces vocabulary size by grouping similar words together.\n",
    "- Improves model efficiency by reducing redundant variations of words.\n",
    "- Helps in text classification, sentiment analysis, and search engines by making words comparable.\n",
    "\n",
    "\n",
    "### Types of Stemmers\n",
    "1. Porter Stemmer (Most common, rule-based)\n",
    "2. Lancaster Stemmer (More aggressive)\n",
    "3. Snowball Stemmer (Improved version of Porter Stemmer)\n",
    "\n",
    "\n",
    "### Limitations of Stemming\n",
    "- It is crude and may not always produce actual words.\n",
    "- Words like \"flies\" become \"fli\" instead of \"fly.\"\n",
    "- \"Better\" remains unchanged due to limitations in rule-based approaches.\n",
    "- Not as accurate as **lemmatization**, which uses dictionary-based word forms.\n",
    "\n",
    "\n",
    "\n",
    "### When to Use Stemming?\n",
    "- When speed is more important than linguistic accuracy.\n",
    "- In applications like search engines where approximate matching is sufficient.\n",
    "- When working with large datasets and computational efficiency is a concern."
   ]
  },
  {
   "cell_type": "code",
   "execution_count": 60,
   "id": "24a2651c-f5d8-4eb2-99a3-0e301573e58c",
   "metadata": {},
   "outputs": [
    {
     "name": "stdout",
     "output_type": "stream",
     "text": [
      "Porter Stemmer: ['run', 'runner', 'run', 'easili', 'care', 'car', 'and', 'fairly,', 'sportingli']\n",
      "Lancaster Stemmer: ['run', 'run', 'run', 'easy', 'car', 'car', 'and', 'fairly,', 'sport']\n",
      "Snowball Stemmer: ['run', 'runner', 'run', 'easili', 'care', 'car', 'and', 'fairly,', 'sport']\n"
     ]
    }
   ],
   "source": [
    "from nltk.stem import PorterStemmer, LancasterStemmer, SnowballStemmer\n",
    "\n",
    "def porter_stemmer_example(text):\n",
    "    \"\"\"\n",
    "    Stem words using the Porter Stemmer.\n",
    "    \n",
    "    The Porter Stemmer is a widely used rule-based stemming algorithm that removes suffixes \n",
    "    from words to reduce them to their root form. It is considered to be effective for English text.\n",
    "    \n",
    "    Args:\n",
    "    text (str): The input text to be stemmed.\n",
    "    \n",
    "    Returns:\n",
    "    list: A list of words after stemming using the Porter Stemmer.\n",
    "    \"\"\"\n",
    "    # Create an instance of the PorterStemmer\n",
    "    porter = PorterStemmer()\n",
    "    \n",
    "    # Split the text into words and stem each word\n",
    "    words = text.split()\n",
    "    stemmed_words = [porter.stem(word) for word in words]\n",
    "    \n",
    "    return stemmed_words\n",
    "\n",
    "\n",
    "def lancaster_stemmer_example(text):\n",
    "    \"\"\"\n",
    "    Stem words using the Lancaster Stemmer.\n",
    "    \n",
    "    The Lancaster Stemmer is a more aggressive stemmer compared to the Porter Stemmer. \n",
    "    It uses a different set of rules and might reduce words to their root form faster and \n",
    "    sometimes to a greater degree than the Porter Stemmer.\n",
    "    \n",
    "    Args:\n",
    "    text (str): The input text to be stemmed.\n",
    "    \n",
    "    Returns:\n",
    "    list: A list of words after stemming using the Lancaster Stemmer.\n",
    "    \"\"\"\n",
    "    # Create an instance of the LancasterStemmer\n",
    "    lancaster = LancasterStemmer()\n",
    "    \n",
    "    # Split the text into words and stem each word\n",
    "    words = text.split()\n",
    "    stemmed_words = [lancaster.stem(word) for word in words]\n",
    "    \n",
    "    return stemmed_words\n",
    "\n",
    "\n",
    "def snowball_stemmer_example(text, language='english'):\n",
    "    \"\"\"\n",
    "    Stem words using the Snowball Stemmer.\n",
    "    \n",
    "    The Snowball Stemmer is an improved version of the Porter Stemmer with better \n",
    "    handling of irregular words. It also supports multiple languages, making it more versatile.\n",
    "    \n",
    "    Args:\n",
    "    text (str): The input text to be stemmed.\n",
    "    language (str): The language of the text (default is 'english').\n",
    "    \n",
    "    Returns:\n",
    "    list: A list of words after stemming using the Snowball Stemmer.\n",
    "    \"\"\"\n",
    "    # Create an instance of the SnowballStemmer\n",
    "    snowball = SnowballStemmer(language)\n",
    "    \n",
    "    # Split the text into words and stem each word\n",
    "    words = text.split()\n",
    "    stemmed_words = [snowball.stem(word) for word in words]\n",
    "    \n",
    "    return stemmed_words\n",
    "\n",
    "\n",
    "# Example Usage\n",
    "if __name__ == \"__main__\":\n",
    "    text = \"running runner runs easily cared cars and fairly, sportingly\"\n",
    "    \n",
    "    print(\"Porter Stemmer:\", porter_stemmer_example(text))\n",
    "    print(\"Lancaster Stemmer:\", lancaster_stemmer_example(text))\n",
    "    print(\"Snowball Stemmer:\", snowball_stemmer_example(text))\n"
   ]
  },
  {
   "cell_type": "markdown",
   "id": "2b32dfcd-2d8d-4899-af15-9e3bfe7bdfa4",
   "metadata": {},
   "source": [
    "# **RegexStemmer in NLTK**\n",
    "This notebook demonstrates how to use the `RegexpStemmer` from NLTK for stemming words based on custom regular expressions.\n",
    "\n",
    "**Key Features of RegexpStemmer:**\n",
    "- Allows defining custom regex patterns for stemming.\n",
    "- Provides better control over which suffixes to remove.\n",
    "- Faster than traditional stemming methods like Porter and Snowball."
   ]
  },
  {
   "cell_type": "markdown",
   "id": "4deed144-c282-4f82-947e-d0eae8a0b5bf",
   "metadata": {},
   "source": [
    "## **Define and Use RegexpStemmer**\n",
    "We will create a `RegexpStemmer` that removes common suffixes such as `-ing`, `-ed`, and `-ly`. The `min=4` parameter ensures that we do not over-stem words, meaning the root should have at least 4 characters left after stemming.\n",
    "\n",
    "# Define a RegexpStemmer with different regex patterns\n",
    "\n",
    "***1️⃣ Removing only suffixes (at the end of the word)***\n",
    "\n",
    " - The `$` symbol ensures that only the ending matches are removed.\n",
    " - Example: \"running\" → \"runn\", \"jumped\" → \"jump\", \"edited\" → \"edit\"\n",
    "\n",
    "***2️⃣ Removing only prefixes (at the start of the word)***\n",
    "\n",
    " - The `^` symbol ensures that only the beginning matches are removed.\n",
    " - Example: \"unhappy\" → \"happy\", \"unable\" → \"able\"\n",
    "\n",
    "***3️⃣ Removing a pattern anywhere in the word (no `^` or `$`)***\n",
    "    \n",
    " - Removes \"ed\" wherever it appears in the word.\n",
    " - Example: \"edited\" → \"it\", \"education\" → \"ucation\", \"bed\" → \"b\""
   ]
  },
  {
   "cell_type": "code",
   "execution_count": 23,
   "id": "8857cdca-1b43-4281-b61c-1c9bfb264941",
   "metadata": {},
   "outputs": [],
   "source": [
    "from nltk.stem import RegexpStemmer"
   ]
  },
  {
   "cell_type": "code",
   "execution_count": 25,
   "id": "26f50ada-81ef-4c52-98a9-a6a771e505d1",
   "metadata": {},
   "outputs": [],
   "source": [
    "def regex_stemmer_example(words):\n",
    "    \"\"\"\n",
    "    Apply regex-based stemming to a list of words using RegexpStemmer.\n",
    "\n",
    "    The regex pattern removes '-ing', '-ed', and '-ly' suffixes only if the root\n",
    "    word has at least 4 characters left.\n",
    "\n",
    "    Args:\n",
    "    words (list): A list of words to be stemmed.\n",
    "\n",
    "    Returns:\n",
    "    list: The list of stemmed words.\n",
    "    \"\"\"\n",
    "    # Define the regex-based stemmer\n",
    "    regex_stemmer = RegexpStemmer(r'ing$|ed$|ly$', min=4)\n",
    "\n",
    "    # Apply stemming to each word\n",
    "    stemmed_words = [regex_stemmer.stem(word) for word in words]\n",
    "\n",
    "    return stemmed_words"
   ]
  },
  {
   "cell_type": "markdown",
   "id": "53fcbe43-394e-4109-8caa-b02e5a96e90d",
   "metadata": {},
   "source": [
    "## **Example Usage**\n",
    "Let's apply our `RegexpStemmer` to a list of sample words and observe the transformations."
   ]
  },
  {
   "cell_type": "code",
   "execution_count": 28,
   "id": "776c75e8-40a5-4f8e-8051-d9cc04ee7a56",
   "metadata": {},
   "outputs": [
    {
     "name": "stdout",
     "output_type": "stream",
     "text": [
      "Original Words: ['running', 'jumped', 'happily', 'caring', 'studied', 'flies']\n",
      "Stemmed Words: ['runn', 'jump', 'happi', 'car', 'studi', 'flies']\n"
     ]
    }
   ],
   "source": [
    "# Example words\n",
    "words = ['running', 'jumped', 'happily', 'caring', 'studied', 'flies']\n",
    "\n",
    "\n",
    "# Apply Regex Stemmer\n",
    "stemmed_words = regex_stemmer_example(words)\n",
    "\n",
    "# Display results\n",
    "print('Original Words:', words)\n",
    "print('Stemmed Words:', stemmed_words)"
   ]
  },
  {
   "cell_type": "markdown",
   "id": "31a49719-df6a-4af1-8f9b-b813128b7282",
   "metadata": {},
   "source": [
    "# **Or in simple**"
   ]
  },
  {
   "cell_type": "code",
   "execution_count": 40,
   "id": "23f6cd02-48f1-44cc-ae25-e8a3f78ccf70",
   "metadata": {},
   "outputs": [
    {
     "name": "stdout",
     "output_type": "stream",
     "text": [
      "eat\n",
      "car\n",
      "excessiv\n"
     ]
    }
   ],
   "source": [
    "## or in simple\n",
    "reg_stemm=RegexpStemmer('ing$|s$|e$|able$', min=4)\n",
    "print(reg_stemm.stem(\"eating\"))\n",
    "print(reg_stemm.stem(\"cars\"))\n",
    "print(reg_stemm.stem(\"excessive\"))"
   ]
  },
  {
   "cell_type": "markdown",
   "id": "4fd5ce8d-7f48-43df-88c2-77c8a1e3d36d",
   "metadata": {},
   "source": [
    "## **Conclusion**\n",
    "- `RegexpStemmer` provides a customizable way to stem words using regex.\n",
    "- The `min` parameter prevents excessive reduction of word stems.\n",
    "- This method is ideal for domain-specific text processing where predefined stemming rules are needed.\n",
    "\n",
    "- $ at the end → Removes suffix only.\n",
    "\n",
    "- ^ at the start → Removes prefix only.\n",
    "\n",
    "- No ^ or $ → Removes the pattern anywhere in the word."
   ]
  },
  {
   "cell_type": "code",
   "execution_count": null,
   "id": "4302275c-f8d4-4956-b5d6-d313b61c5c70",
   "metadata": {},
   "outputs": [],
   "source": []
  },
  {
   "cell_type": "code",
   "execution_count": null,
   "id": "36890500-5212-4904-bfbb-4fc192f512c0",
   "metadata": {},
   "outputs": [],
   "source": []
  }
 ],
 "metadata": {
  "kernelspec": {
   "display_name": "Python 3 (ipykernel)",
   "language": "python",
   "name": "python3"
  },
  "language_info": {
   "codemirror_mode": {
    "name": "ipython",
    "version": 3
   },
   "file_extension": ".py",
   "mimetype": "text/x-python",
   "name": "python",
   "nbconvert_exporter": "python",
   "pygments_lexer": "ipython3",
   "version": "3.12.7"
  }
 },
 "nbformat": 4,
 "nbformat_minor": 5
}
