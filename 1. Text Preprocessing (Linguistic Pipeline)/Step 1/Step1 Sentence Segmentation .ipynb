{
 "cells": [
  {
   "cell_type": "markdown",
   "id": "4a26e786-be1e-43c1-a7c5-5a03c197b35a",
   "metadata": {},
   "source": [
    "\n",
    "# ***Sentence Segment is the first step for building the NLP pipeline. It breaks the paragraph into separate sentences.***\n",
    "\n",
    "\n",
    "***Example:*** Consider the following paragraph -\n",
    "\n",
    "Independence Day is one of the important festivals for every Indian citizen. It is celebrated on the 15th of August each year ever since India got independence from the British rule. The day celebrates independence in the true sense.\n",
    "\n",
    "***Sentence Segment produces the following result:***\n",
    "\n",
    "\"Independence Day is one of the important festivals for every Indian citizen.\"\n",
    "\n",
    "\"It is celebrated on the 15th of August each year ever since India got independence from the British rule.\"\n",
    "\n",
    "\"This day celebrates independence in the true sense.\""
   ]
  },
  {
   "cell_type": "code",
   "execution_count": 2,
   "id": "0b3a5cbf-8178-48e3-8d57-aa97735944b9",
   "metadata": {},
   "outputs": [
    {
     "name": "stdout",
     "output_type": "stream",
     "text": [
      "Requirement already satisfied: nltk in c:\\users\\p4pri\\anaconda3\\lib\\site-packages (3.9.1)\n",
      "Requirement already satisfied: click in c:\\users\\p4pri\\anaconda3\\lib\\site-packages (from nltk) (8.1.7)\n",
      "Requirement already satisfied: joblib in c:\\users\\p4pri\\anaconda3\\lib\\site-packages (from nltk) (1.4.2)\n",
      "Requirement already satisfied: regex>=2021.8.3 in c:\\users\\p4pri\\anaconda3\\lib\\site-packages (from nltk) (2024.9.11)\n",
      "Requirement already satisfied: tqdm in c:\\users\\p4pri\\anaconda3\\lib\\site-packages (from nltk) (4.66.5)\n",
      "Requirement already satisfied: colorama in c:\\users\\p4pri\\anaconda3\\lib\\site-packages (from click->nltk) (0.4.6)\n"
     ]
    },
    {
     "name": "stderr",
     "output_type": "stream",
     "text": [
      "WARNING: Ignoring invalid distribution ~atplotlib (C:\\Users\\p4pri\\anaconda3\\Lib\\site-packages)\n",
      "WARNING: Ignoring invalid distribution ~atplotlib (C:\\Users\\p4pri\\anaconda3\\Lib\\site-packages)\n",
      "WARNING: Ignoring invalid distribution ~atplotlib (C:\\Users\\p4pri\\anaconda3\\Lib\\site-packages)\n"
     ]
    }
   ],
   "source": [
    "!pip install nltk"
   ]
  },
  {
   "cell_type": "code",
   "execution_count": 1,
   "id": "2f6bae3c-55f5-49af-8d13-80a9f63b46d0",
   "metadata": {},
   "outputs": [],
   "source": [
    "corpus =\"\"\"Independence Day is one of the important festivals for every Indian citizen. It is celebrated on the 15th of August each year ever since India got independence from the British rule.\n",
    "The day celebrates independence in the true sense.\"\"\""
   ]
  },
  {
   "cell_type": "code",
   "execution_count": 3,
   "id": "f760def3-ff44-475b-b7ea-c26dc2ed6c7a",
   "metadata": {},
   "outputs": [
    {
     "data": {
      "text/plain": [
       "'Independence Day is one of the important festivals for every Indian citizen. It is celebrated on the 15th of August each year ever since India got independence from the British rule.\\nThe day celebrates independence in the true sense.'"
      ]
     },
     "execution_count": 3,
     "metadata": {},
     "output_type": "execute_result"
    }
   ],
   "source": [
    "corpus"
   ]
  },
  {
   "cell_type": "code",
   "execution_count": 5,
   "id": "2f9d3e6f-1468-4592-b443-6ea2156324e1",
   "metadata": {},
   "outputs": [
    {
     "name": "stdout",
     "output_type": "stream",
     "text": [
      "Independence Day is one of the important festivals for every Indian citizen. It is celebrated on the 15th of August each year ever since India got independence from the British rule.\n",
      "The day celebrates independence in the true sense.\n"
     ]
    }
   ],
   "source": [
    "print(corpus)"
   ]
  },
  {
   "cell_type": "code",
   "execution_count": 17,
   "id": "a4813423-fbf9-43f0-a009-03e56b5e7985",
   "metadata": {},
   "outputs": [],
   "source": [
    "##  paragraph into sentences\n",
    "\n",
    "\n",
    "from nltk.tokenize import sent_tokenize\n"
   ]
  },
  {
   "cell_type": "code",
   "execution_count": 19,
   "id": "8a76c44e-44f4-4e61-938c-81a01f935452",
   "metadata": {},
   "outputs": [
    {
     "name": "stderr",
     "output_type": "stream",
     "text": [
      "[nltk_data] Downloading package punkt_tab to\n",
      "[nltk_data]     C:\\Users\\p4pri\\AppData\\Roaming\\nltk_data...\n",
      "[nltk_data]   Package punkt_tab is already up-to-date!\n"
     ]
    },
    {
     "data": {
      "text/plain": [
       "True"
      ]
     },
     "execution_count": 19,
     "metadata": {},
     "output_type": "execute_result"
    }
   ],
   "source": [
    "## some time you need to download it \n",
    "import nltk\n",
    "nltk.download('punkt_tab')"
   ]
  },
  {
   "cell_type": "code",
   "execution_count": 21,
   "id": "d016cf6c-b949-492d-aa9e-9d5ccc62fd5c",
   "metadata": {},
   "outputs": [
    {
     "data": {
      "text/plain": [
       "['Independence Day is one of the important festivals for every Indian citizen.',\n",
       " 'It is celebrated on the 15th of August each year ever since India got independence from the British rule.',\n",
       " 'The day celebrates independence in the true sense.']"
      ]
     },
     "execution_count": 21,
     "metadata": {},
     "output_type": "execute_result"
    }
   ],
   "source": [
    "sent_tokenize(corpus)"
   ]
  },
  {
   "cell_type": "code",
   "execution_count": null,
   "id": "7b388ca0-7fef-47a1-a558-cae6709c5629",
   "metadata": {},
   "outputs": [],
   "source": [
    " "
   ]
  }
 ],
 "metadata": {
  "kernelspec": {
   "display_name": "Python 3 (ipykernel)",
   "language": "python",
   "name": "python3"
  },
  "language_info": {
   "codemirror_mode": {
    "name": "ipython",
    "version": 3
   },
   "file_extension": ".py",
   "mimetype": "text/x-python",
   "name": "python",
   "nbconvert_exporter": "python",
   "pygments_lexer": "ipython3",
   "version": "3.12.7"
  }
 },
 "nbformat": 4,
 "nbformat_minor": 5
}
